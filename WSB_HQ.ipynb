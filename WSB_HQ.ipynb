{
  "nbformat": 4,
  "nbformat_minor": 0,
  "metadata": {
    "colab": {
      "name": "WSB HQ",
      "provenance": [],
      "collapsed_sections": []
    },
    "kernelspec": {
      "name": "python3",
      "display_name": "Python 3"
    }
  },
  "cells": [
    {
      "cell_type": "code",
      "metadata": {
        "colab": {
          "base_uri": "https://localhost:8080/"
        },
        "id": "rVDqXZbF5del",
        "outputId": "05338fa3-343a-4c67-b2f4-4ad6cd5433cb"
      },
      "source": [
        "!pip install yfinance"
      ],
      "execution_count": 1,
      "outputs": [
        {
          "output_type": "stream",
          "text": [
            "Collecting yfinance\n",
            "  Downloading https://files.pythonhosted.org/packages/7a/e8/b9d7104d3a4bf39924799067592d9e59119fcfc900a425a12e80a3123ec8/yfinance-0.1.55.tar.gz\n",
            "Requirement already satisfied: pandas>=0.24 in /usr/local/lib/python3.7/dist-packages (from yfinance) (1.1.5)\n",
            "Requirement already satisfied: numpy>=1.15 in /usr/local/lib/python3.7/dist-packages (from yfinance) (1.19.5)\n",
            "Requirement already satisfied: requests>=2.20 in /usr/local/lib/python3.7/dist-packages (from yfinance) (2.23.0)\n",
            "Requirement already satisfied: multitasking>=0.0.7 in /usr/local/lib/python3.7/dist-packages (from yfinance) (0.0.9)\n",
            "Collecting lxml>=4.5.1\n",
            "\u001b[?25l  Downloading https://files.pythonhosted.org/packages/d2/88/b25778f17e5320c1c58f8c5060fb5b037288e162bd7554c30799e9ea90db/lxml-4.6.2-cp37-cp37m-manylinux1_x86_64.whl (5.5MB)\n",
            "\u001b[K     |████████████████████████████████| 5.5MB 6.5MB/s \n",
            "\u001b[?25hRequirement already satisfied: python-dateutil>=2.7.3 in /usr/local/lib/python3.7/dist-packages (from pandas>=0.24->yfinance) (2.8.1)\n",
            "Requirement already satisfied: pytz>=2017.2 in /usr/local/lib/python3.7/dist-packages (from pandas>=0.24->yfinance) (2018.9)\n",
            "Requirement already satisfied: idna<3,>=2.5 in /usr/local/lib/python3.7/dist-packages (from requests>=2.20->yfinance) (2.10)\n",
            "Requirement already satisfied: urllib3!=1.25.0,!=1.25.1,<1.26,>=1.21.1 in /usr/local/lib/python3.7/dist-packages (from requests>=2.20->yfinance) (1.24.3)\n",
            "Requirement already satisfied: chardet<4,>=3.0.2 in /usr/local/lib/python3.7/dist-packages (from requests>=2.20->yfinance) (3.0.4)\n",
            "Requirement already satisfied: certifi>=2017.4.17 in /usr/local/lib/python3.7/dist-packages (from requests>=2.20->yfinance) (2020.12.5)\n",
            "Requirement already satisfied: six>=1.5 in /usr/local/lib/python3.7/dist-packages (from python-dateutil>=2.7.3->pandas>=0.24->yfinance) (1.15.0)\n",
            "Building wheels for collected packages: yfinance\n",
            "  Building wheel for yfinance (setup.py) ... \u001b[?25l\u001b[?25hdone\n",
            "  Created wheel for yfinance: filename=yfinance-0.1.55-py2.py3-none-any.whl size=22616 sha256=5f395a45d54412ca092a06db18970b6aae3d67430312425d6d54637c4db7538c\n",
            "  Stored in directory: /root/.cache/pip/wheels/04/98/cc/2702a4242d60bdc14f48b4557c427ded1fe92aedf257d4565c\n",
            "Successfully built yfinance\n",
            "Installing collected packages: lxml, yfinance\n",
            "  Found existing installation: lxml 4.2.6\n",
            "    Uninstalling lxml-4.2.6:\n",
            "      Successfully uninstalled lxml-4.2.6\n",
            "Successfully installed lxml-4.6.2 yfinance-0.1.55\n"
          ],
          "name": "stdout"
        }
      ]
    },
    {
      "cell_type": "code",
      "metadata": {
        "id": "3Ju0B1q7vMDd"
      },
      "source": [
        "import pandas as pd  \n",
        "from sklearn.model_selection import train_test_split \n",
        "from sklearn.neural_network import MLPRegressor\n",
        "from math import sqrt\n",
        "from sklearn.metrics import mean_squared_error, r2_score\n",
        "from sklearn.model_selection import GridSearchCV\n",
        "import yfinance as yf\n",
        "import matplotlib.pyplot as plt\n",
        "from sklearn.model_selection import cross_val_score, cross_validate, KFold\n",
        "from numpy import mean, absolute, sqrt\n"
      ],
      "execution_count": 2,
      "outputs": []
    },
    {
      "cell_type": "code",
      "metadata": {
        "id": "to6ecINwvW3f",
        "colab": {
          "base_uri": "https://localhost:8080/"
        },
        "outputId": "a764cb18-c777-44c4-e24f-21a3af295472"
      },
      "source": [
        "stocks = [\"SPY\"]\n",
        "spy_yf = yf.download(stocks, start=\"2000-01-01\", end=\"2021-02-20\")\n",
        "spy = pd.DataFrame(spy_yf)\n"
      ],
      "execution_count": 3,
      "outputs": [
        {
          "output_type": "stream",
          "text": [
            "\r[*********************100%***********************]  1 of 1 completed\n"
          ],
          "name": "stdout"
        }
      ]
    },
    {
      "cell_type": "code",
      "metadata": {
        "id": "7sIxa4g6GGen"
      },
      "source": [
        "# spy.to_csv('SPY.csv', index=False)"
      ],
      "execution_count": 4,
      "outputs": []
    },
    {
      "cell_type": "code",
      "metadata": {
        "id": "Pg7YrtoJyCmA",
        "colab": {
          "base_uri": "https://localhost:8080/"
        },
        "outputId": "658b2e6b-ca7e-45cf-b903-2e25fbef1c1c"
      },
      "source": [
        "spy.info()"
      ],
      "execution_count": 5,
      "outputs": [
        {
          "output_type": "stream",
          "text": [
            "<class 'pandas.core.frame.DataFrame'>\n",
            "DatetimeIndex: 5317 entries, 2000-01-03 to 2021-02-19\n",
            "Data columns (total 6 columns):\n",
            " #   Column     Non-Null Count  Dtype  \n",
            "---  ------     --------------  -----  \n",
            " 0   Open       5317 non-null   float64\n",
            " 1   High       5317 non-null   float64\n",
            " 2   Low        5317 non-null   float64\n",
            " 3   Close      5317 non-null   float64\n",
            " 4   Adj Close  5317 non-null   float64\n",
            " 5   Volume     5317 non-null   int64  \n",
            "dtypes: float64(5), int64(1)\n",
            "memory usage: 290.8 KB\n"
          ],
          "name": "stdout"
        }
      ]
    },
    {
      "cell_type": "code",
      "metadata": {
        "colab": {
          "base_uri": "https://localhost:8080/"
        },
        "id": "ZwP4v2QR2FF4",
        "outputId": "3f74d4d9-47c1-4e5b-b987-f84ecf6ba774"
      },
      "source": [
        "spy.isnull().sum()"
      ],
      "execution_count": 6,
      "outputs": [
        {
          "output_type": "execute_result",
          "data": {
            "text/plain": [
              "Open         0\n",
              "High         0\n",
              "Low          0\n",
              "Close        0\n",
              "Adj Close    0\n",
              "Volume       0\n",
              "dtype: int64"
            ]
          },
          "metadata": {
            "tags": []
          },
          "execution_count": 6
        }
      ]
    },
    {
      "cell_type": "code",
      "metadata": {
        "id": "fPE9Ge62vbky"
      },
      "source": [
        "spy_x = spy.drop(['Close', 'Adj Close'], axis =1)\n",
        "spy_y = spy['Close'] # Predict closing price"
      ],
      "execution_count": 7,
      "outputs": []
    },
    {
      "cell_type": "code",
      "metadata": {
        "id": "pK-ZTDSmwKuG"
      },
      "source": [
        "spy_x_train, spy_x_test, spy_y_train, spy_y_test = train_test_split(spy_x, spy_y, test_size=0.3) # Simple Split"
      ],
      "execution_count": 8,
      "outputs": []
    },
    {
      "cell_type": "code",
      "metadata": {
        "colab": {
          "base_uri": "https://localhost:8080/"
        },
        "id": "EIW830-ZwR6n",
        "outputId": "9ee48b99-b42e-40d1-b003-a81d52fe49b5"
      },
      "source": [
        "mlpRegression = MLPRegressor(activation ='logistic', hidden_layer_sizes=(20,), max_iter= 3000, solver = 'sgd', random_state=2)\n",
        "mlpRegression.fit(spy_x_train, spy_y_train)"
      ],
      "execution_count": 9,
      "outputs": [
        {
          "output_type": "execute_result",
          "data": {
            "text/plain": [
              "MLPRegressor(activation='logistic', alpha=0.0001, batch_size='auto', beta_1=0.9,\n",
              "             beta_2=0.999, early_stopping=False, epsilon=1e-08,\n",
              "             hidden_layer_sizes=(20,), learning_rate='constant',\n",
              "             learning_rate_init=0.001, max_fun=15000, max_iter=3000,\n",
              "             momentum=0.9, n_iter_no_change=10, nesterovs_momentum=True,\n",
              "             power_t=0.5, random_state=2, shuffle=True, solver='sgd',\n",
              "             tol=0.0001, validation_fraction=0.1, verbose=False,\n",
              "             warm_start=False)"
            ]
          },
          "metadata": {
            "tags": []
          },
          "execution_count": 9
        }
      ]
    },
    {
      "cell_type": "code",
      "metadata": {
        "id": "nxh_bQwowiCA"
      },
      "source": [
        "y_train_predict = mlpRegression.predict(spy_x_train) # Store the predictions\n",
        "y_test_predict = mlpRegression.predict(spy_x_test)"
      ],
      "execution_count": 10,
      "outputs": []
    },
    {
      "cell_type": "code",
      "metadata": {
        "colab": {
          "base_uri": "https://localhost:8080/"
        },
        "id": "wtHSMvIEFhqv",
        "outputId": "0fdbd869-f5ed-4f8a-86be-5bbc6a71b30a"
      },
      "source": [
        "cv = KFold(n_splits=10, random_state=1, shuffle=True)\n",
        "\n",
        "results = cross_val_score(mlpRegression, spy_x, spy_y, scoring='neg_mean_squared_error', cv=cv, n_jobs=-1)\n",
        "sqrt(mean(absolute(results)))\n",
        "# results"
      ],
      "execution_count": 11,
      "outputs": [
        {
          "output_type": "execute_result",
          "data": {
            "text/plain": [
              "69.14212360493153"
            ]
          },
          "metadata": {
            "tags": []
          },
          "execution_count": 11
        }
      ]
    },
    {
      "cell_type": "code",
      "metadata": {
        "colab": {
          "base_uri": "https://localhost:8080/"
        },
        "id": "bJD_VujI0vaQ",
        "outputId": "b02a108f-b7bd-4236-a7a8-2b17db00c9ed"
      },
      "source": [
        "print(\"Artificial Neural Network\")\n",
        "print(\"Cross Validation RSME:\", sqrt(mean(absolute(results))))\n",
        "\n",
        "print(\"\")\n",
        "\n",
        "print('Training R2 Value:', mlpRegression.score(spy_x_train, spy_y_train))\n",
        "print('Testing R2 Value:', mlpRegression.score(spy_x_test, spy_y_test))\n",
        "\n",
        "print(\"\")\n",
        "\n",
        "print('Training RMSE:', sqrt(mean_squared_error(y_train_predict, spy_y_train))) # RMSE: the lower the better\n",
        "print('Testing RMSE:', sqrt(mean_squared_error(y_test_predict, spy_y_test))) # RMSE: the lower the better\n",
        "\n",
        "# Before XGB\n",
        "# Artificial Neural Network\n",
        "# Training R2 Value: -6.139917898995151e-06\n",
        "# Testing R2 Value: -0.000464315194173448\n",
        "\n",
        "# Training RMSE: 68.78907552942923\n",
        "# Testing RMSE: 69.93273864746622"
      ],
      "execution_count": 12,
      "outputs": [
        {
          "output_type": "stream",
          "text": [
            "Artificial Neural Network\n",
            "Cross Validation RSME: 69.14212360493153\n",
            "\n",
            "Training R2 Value: -2.7991139739391713e-06\n",
            "Testing R2 Value: -0.003197903914230027\n",
            "\n",
            "Training RMSE: 69.5406126480552\n",
            "Testing RMSE: 68.19800205251903\n"
          ],
          "name": "stdout"
        }
      ]
    },
    {
      "cell_type": "code",
      "metadata": {
        "id": "FV_4XYXQ03es"
      },
      "source": [
        "# param_grid1 = {\"activation\": [\"logistic\", \"relu\"], \"hidden_layer_sizes\" : [(10,), (15,), (20,)], \"max_iter\" : [500, 1000, 2000, 3000], 'solver' : [\"sgd\", \"adam\", \"lgbfs\"]}\n",
        "\n",
        "# spyGS = GridSearchCV(mlpRegression, param_grid=param_grid1, cv=15, n_jobs=-1)\n",
        "\n",
        "# spyGS = spyGS.fit(spy_x_train, spy_y_train) \n",
        "\n",
        "# print(spyGS.best_score_)\n",
        "# print(spyGS.best_params_)"
      ],
      "execution_count": 13,
      "outputs": []
    },
    {
      "cell_type": "code",
      "metadata": {
        "colab": {
          "base_uri": "https://localhost:8080/"
        },
        "id": "iI-26jRq1c4E",
        "outputId": "537b6c26-233f-41d8-ff48-6d04552621fd"
      },
      "source": [
        "mlpRegression_Improved = MLPRegressor(activation ='logistic', hidden_layer_sizes=(20,), max_iter= 500, solver = 'sgd', random_state=2)\n",
        "mlpRegression_Improved.fit(spy_x_train, spy_y_train)"
      ],
      "execution_count": 14,
      "outputs": [
        {
          "output_type": "execute_result",
          "data": {
            "text/plain": [
              "MLPRegressor(activation='logistic', alpha=0.0001, batch_size='auto', beta_1=0.9,\n",
              "             beta_2=0.999, early_stopping=False, epsilon=1e-08,\n",
              "             hidden_layer_sizes=(20,), learning_rate='constant',\n",
              "             learning_rate_init=0.001, max_fun=15000, max_iter=500,\n",
              "             momentum=0.9, n_iter_no_change=10, nesterovs_momentum=True,\n",
              "             power_t=0.5, random_state=2, shuffle=True, solver='sgd',\n",
              "             tol=0.0001, validation_fraction=0.1, verbose=False,\n",
              "             warm_start=False)"
            ]
          },
          "metadata": {
            "tags": []
          },
          "execution_count": 14
        }
      ]
    },
    {
      "cell_type": "code",
      "metadata": {
        "colab": {
          "base_uri": "https://localhost:8080/"
        },
        "id": "-1_6xIwPKdTy",
        "outputId": "f0eb039b-2667-4ff1-929d-7f4b16758101"
      },
      "source": [
        "cv_GS = KFold(n_splits=10, random_state=1, shuffle=True)\n",
        "\n",
        "results_GS = cross_val_score(mlpRegression_Improved, spy_x, spy_y, scoring='neg_mean_squared_error', cv=cv_GS, n_jobs=-1)\n",
        "sqrt(mean(absolute(results_GS)))"
      ],
      "execution_count": 15,
      "outputs": [
        {
          "output_type": "execute_result",
          "data": {
            "text/plain": [
              "69.14212360493153"
            ]
          },
          "metadata": {
            "tags": []
          },
          "execution_count": 15
        }
      ]
    },
    {
      "cell_type": "code",
      "metadata": {
        "colab": {
          "base_uri": "https://localhost:8080/"
        },
        "id": "KYlZoSrw2mxw",
        "outputId": "57edfbd9-61f0-43e5-e9bc-84a9c51d0ed8"
      },
      "source": [
        "print('Artificial Neural Network')\n",
        "print('Training R^2 Value:', mlpRegression.score(spy_x_train, spy_y_train), '\\tImproved Training R^2 Value:', mlpRegression_Improved.score(spy_x_train, spy_y_train))\n",
        "print('Testing R^2 Value:', mlpRegression.score(spy_x_test, spy_y_test), '\\tImproved Testing R^2 Value:', mlpRegression_Improved.score(spy_x_test, spy_y_test))\n",
        "\n",
        "# Artificial Neural Network\n",
        "# Training R^2 Value: -6.139917898995151e-06 \tImproved Training R^2 Value: 0.05402620250393664\n",
        "# Testing R^2 Value: -0.000464315194173448 \tImproved Testing R^2 Value: 0.08688677788291521\n",
        "\n",
        "# After XGB\n",
        "# Training R^2 Value: -3.2053089826789005e-06 \tImproved Training R^2 Value: 0.9819630816690547\n",
        "# Testing R^2 Value: -0.0006414591987917717 \tImproved Testing R^2 Value: 0.9815814374859191"
      ],
      "execution_count": 16,
      "outputs": [
        {
          "output_type": "stream",
          "text": [
            "Artificial Neural Network\n",
            "Training R^2 Value: -2.7991139739391713e-06 \tImproved Training R^2 Value: -2.7991139739391713e-06\n",
            "Testing R^2 Value: -0.003197903914230027 \tImproved Testing R^2 Value: -0.003197903914230027\n"
          ],
          "name": "stdout"
        }
      ]
    },
    {
      "cell_type": "code",
      "metadata": {
        "id": "28KUbwRU3zwT"
      },
      "source": [
        "y_train_improved_predict = mlpRegression_Improved.predict(spy_x_train) # Store the predictions using the improved model\n",
        "y_test_improved_predict = mlpRegression_Improved.predict(spy_x_test)"
      ],
      "execution_count": 17,
      "outputs": []
    },
    {
      "cell_type": "code",
      "metadata": {
        "colab": {
          "base_uri": "https://localhost:8080/"
        },
        "id": "IO4yZlat2_Ux",
        "outputId": "44848936-e139-4449-dd81-a517c3e8ca78"
      },
      "source": [
        "print(\"Artificial Neural Network\")\n",
        "print('Training R2 Value:', mlpRegression_Improved.score(spy_x_train, spy_y_train)) \n",
        "print('Testing R2 Value:', mlpRegression_Improved.score(spy_x_test, spy_y_test))\n",
        "\n",
        "print(\"\")\n",
        "\n",
        "\n",
        "print('Training RMSE:', sqrt(mean_squared_error(y_train_improved_predict, spy_y_train))) # RMSE: the lower the better\n",
        "print('Testing RMSE:', sqrt(mean_squared_error(y_test_improved_predict, spy_y_test))) # RMSE: the lower the better\n",
        "\n",
        "# Artificial Neural Network\n",
        "# Training R2 Value: 0.05402620250393664\n",
        "# Testing R2 Value: 0.08688677788291521\n",
        "\n",
        "# Training RMSE: 66.90486414652831\n",
        "# Testing RMSE: 66.81008902408266\n",
        "\n",
        "# After XGB\n",
        "\n",
        "# Training R2 Value: 0.9819630816690547\n",
        "# Testing R2 Value: 0.9815814374859191\n",
        "\n",
        "# Training RMSE: 9.194656855492699\n",
        "# Testing RMSE: 9.4776522763638"
      ],
      "execution_count": 18,
      "outputs": [
        {
          "output_type": "stream",
          "text": [
            "Artificial Neural Network\n",
            "Training R2 Value: -2.7991139739391713e-06\n",
            "Testing R2 Value: -0.003197903914230027\n",
            "\n",
            "Training RMSE: 69.5406126480552\n",
            "Testing RMSE: 68.19800205251903\n"
          ],
          "name": "stdout"
        }
      ]
    },
    {
      "cell_type": "code",
      "metadata": {
        "id": "VjS16UFM37As"
      },
      "source": [
        "# pred = mlpRegression_Improved.predict(spy_x)\n",
        "# spy['Predicted'] = pred"
      ],
      "execution_count": 19,
      "outputs": []
    },
    {
      "cell_type": "code",
      "metadata": {
        "colab": {
          "base_uri": "https://localhost:8080/",
          "height": 450
        },
        "id": "EkFLaco1DuIY",
        "outputId": "26136e7c-713c-4122-cac3-688c67569533"
      },
      "source": [
        "spy"
      ],
      "execution_count": 20,
      "outputs": [
        {
          "output_type": "execute_result",
          "data": {
            "text/html": [
              "<div>\n",
              "<style scoped>\n",
              "    .dataframe tbody tr th:only-of-type {\n",
              "        vertical-align: middle;\n",
              "    }\n",
              "\n",
              "    .dataframe tbody tr th {\n",
              "        vertical-align: top;\n",
              "    }\n",
              "\n",
              "    .dataframe thead th {\n",
              "        text-align: right;\n",
              "    }\n",
              "</style>\n",
              "<table border=\"1\" class=\"dataframe\">\n",
              "  <thead>\n",
              "    <tr style=\"text-align: right;\">\n",
              "      <th></th>\n",
              "      <th>Open</th>\n",
              "      <th>High</th>\n",
              "      <th>Low</th>\n",
              "      <th>Close</th>\n",
              "      <th>Adj Close</th>\n",
              "      <th>Volume</th>\n",
              "    </tr>\n",
              "    <tr>\n",
              "      <th>Date</th>\n",
              "      <th></th>\n",
              "      <th></th>\n",
              "      <th></th>\n",
              "      <th></th>\n",
              "      <th></th>\n",
              "      <th></th>\n",
              "    </tr>\n",
              "  </thead>\n",
              "  <tbody>\n",
              "    <tr>\n",
              "      <th>2000-01-03</th>\n",
              "      <td>148.250000</td>\n",
              "      <td>148.250000</td>\n",
              "      <td>143.875000</td>\n",
              "      <td>145.437500</td>\n",
              "      <td>98.146072</td>\n",
              "      <td>8164300</td>\n",
              "    </tr>\n",
              "    <tr>\n",
              "      <th>2000-01-04</th>\n",
              "      <td>143.531250</td>\n",
              "      <td>144.062500</td>\n",
              "      <td>139.640625</td>\n",
              "      <td>139.750000</td>\n",
              "      <td>94.307983</td>\n",
              "      <td>8089800</td>\n",
              "    </tr>\n",
              "    <tr>\n",
              "      <th>2000-01-05</th>\n",
              "      <td>139.937500</td>\n",
              "      <td>141.531250</td>\n",
              "      <td>137.250000</td>\n",
              "      <td>140.000000</td>\n",
              "      <td>94.476685</td>\n",
              "      <td>12177900</td>\n",
              "    </tr>\n",
              "    <tr>\n",
              "      <th>2000-01-06</th>\n",
              "      <td>139.625000</td>\n",
              "      <td>141.500000</td>\n",
              "      <td>137.750000</td>\n",
              "      <td>137.750000</td>\n",
              "      <td>92.958336</td>\n",
              "      <td>6227200</td>\n",
              "    </tr>\n",
              "    <tr>\n",
              "      <th>2000-01-07</th>\n",
              "      <td>140.312500</td>\n",
              "      <td>145.750000</td>\n",
              "      <td>140.062500</td>\n",
              "      <td>145.750000</td>\n",
              "      <td>98.356987</td>\n",
              "      <td>8066500</td>\n",
              "    </tr>\n",
              "    <tr>\n",
              "      <th>...</th>\n",
              "      <td>...</td>\n",
              "      <td>...</td>\n",
              "      <td>...</td>\n",
              "      <td>...</td>\n",
              "      <td>...</td>\n",
              "      <td>...</td>\n",
              "    </tr>\n",
              "    <tr>\n",
              "      <th>2021-02-12</th>\n",
              "      <td>389.850006</td>\n",
              "      <td>392.899994</td>\n",
              "      <td>389.769989</td>\n",
              "      <td>392.640015</td>\n",
              "      <td>392.640015</td>\n",
              "      <td>50505700</td>\n",
              "    </tr>\n",
              "    <tr>\n",
              "      <th>2021-02-16</th>\n",
              "      <td>393.959991</td>\n",
              "      <td>394.170013</td>\n",
              "      <td>391.529999</td>\n",
              "      <td>392.299988</td>\n",
              "      <td>392.299988</td>\n",
              "      <td>50700800</td>\n",
              "    </tr>\n",
              "    <tr>\n",
              "      <th>2021-02-17</th>\n",
              "      <td>390.420013</td>\n",
              "      <td>392.660004</td>\n",
              "      <td>389.329987</td>\n",
              "      <td>392.390015</td>\n",
              "      <td>392.390015</td>\n",
              "      <td>52290600</td>\n",
              "    </tr>\n",
              "    <tr>\n",
              "      <th>2021-02-18</th>\n",
              "      <td>389.589996</td>\n",
              "      <td>391.519989</td>\n",
              "      <td>387.739990</td>\n",
              "      <td>390.720001</td>\n",
              "      <td>390.720001</td>\n",
              "      <td>59552200</td>\n",
              "    </tr>\n",
              "    <tr>\n",
              "      <th>2021-02-19</th>\n",
              "      <td>392.070007</td>\n",
              "      <td>392.380005</td>\n",
              "      <td>389.549988</td>\n",
              "      <td>390.029999</td>\n",
              "      <td>390.029999</td>\n",
              "      <td>83142800</td>\n",
              "    </tr>\n",
              "  </tbody>\n",
              "</table>\n",
              "<p>5317 rows × 6 columns</p>\n",
              "</div>"
            ],
            "text/plain": [
              "                  Open        High  ...   Adj Close    Volume\n",
              "Date                                ...                      \n",
              "2000-01-03  148.250000  148.250000  ...   98.146072   8164300\n",
              "2000-01-04  143.531250  144.062500  ...   94.307983   8089800\n",
              "2000-01-05  139.937500  141.531250  ...   94.476685  12177900\n",
              "2000-01-06  139.625000  141.500000  ...   92.958336   6227200\n",
              "2000-01-07  140.312500  145.750000  ...   98.356987   8066500\n",
              "...                ...         ...  ...         ...       ...\n",
              "2021-02-12  389.850006  392.899994  ...  392.640015  50505700\n",
              "2021-02-16  393.959991  394.170013  ...  392.299988  50700800\n",
              "2021-02-17  390.420013  392.660004  ...  392.390015  52290600\n",
              "2021-02-18  389.589996  391.519989  ...  390.720001  59552200\n",
              "2021-02-19  392.070007  392.380005  ...  390.029999  83142800\n",
              "\n",
              "[5317 rows x 6 columns]"
            ]
          },
          "metadata": {
            "tags": []
          },
          "execution_count": 20
        }
      ]
    },
    {
      "cell_type": "code",
      "metadata": {
        "id": "6AbWyBrpD3ML",
        "colab": {
          "base_uri": "https://localhost:8080/"
        },
        "outputId": "eca91691-e45c-49d6-b455-f0d33228cef8"
      },
      "source": [
        "#XGBoost\n",
        "!pip install xgboost"
      ],
      "execution_count": 21,
      "outputs": [
        {
          "output_type": "stream",
          "text": [
            "Requirement already satisfied: xgboost in /usr/local/lib/python3.7/dist-packages (0.90)\n",
            "Requirement already satisfied: numpy in /usr/local/lib/python3.7/dist-packages (from xgboost) (1.19.5)\n",
            "Requirement already satisfied: scipy in /usr/local/lib/python3.7/dist-packages (from xgboost) (1.4.1)\n"
          ],
          "name": "stdout"
        }
      ]
    },
    {
      "cell_type": "code",
      "metadata": {
        "id": "lfjJP0LlM9ho"
      },
      "source": [
        "import xgboost as xgb\n",
        "import numpy as np\n",
        "from sklearn.metrics import mean_squared_error"
      ],
      "execution_count": 22,
      "outputs": []
    },
    {
      "cell_type": "code",
      "metadata": {
        "id": "IH8TXevLNAY-"
      },
      "source": [
        "# X, y = spy.iloc[:,:-1],spy.iloc[:,-1] \n",
        "# X = spy.drop(['Close'], axis =1)\n",
        "# y = spy['Close'] # Predict closing price\n",
        "\n",
        "# We just use SPY_X and SPY_Y can le ba no need redo this part"
      ],
      "execution_count": 23,
      "outputs": []
    },
    {
      "cell_type": "code",
      "metadata": {
        "id": "u71sgwtZNI6v"
      },
      "source": [
        "data_dmatrix = xgb.DMatrix(data=spy_x,label=spy_y)"
      ],
      "execution_count": 24,
      "outputs": []
    },
    {
      "cell_type": "code",
      "metadata": {
        "id": "VE9eiT9bNLRG"
      },
      "source": [
        "# from sklearn.model_selection import train_test_split\n",
        "\n",
        "# X_train, X_test, y_train, y_test = train_test_split(X, y, test_size=0.2)\n",
        "\n",
        "# We just use SPY_X's Train / Test and SPY_Y Train / Test can le ba no need redo this part"
      ],
      "execution_count": 25,
      "outputs": []
    },
    {
      "cell_type": "code",
      "metadata": {
        "id": "QlBObszrNNO8"
      },
      "source": [
        "xg_reg = xgb.XGBRegressor(objective ='reg:squarederror',\n",
        "                max_depth = 25, n_estimators = 100)"
      ],
      "execution_count": 26,
      "outputs": []
    },
    {
      "cell_type": "code",
      "metadata": {
        "id": "fQam0Zx6NPEs"
      },
      "source": [
        "xg_reg.fit(spy_x_train, spy_y_train)\n",
        "\n",
        "# preds = xg_reg.predict(X_test)\n",
        "preds = xg_reg.predict(spy_x)\n",
        "\n",
        "preds_train = xg_reg.predict(spy_x_train)\n",
        "preds_test = xg_reg.predict(spy_x_test)"
      ],
      "execution_count": 27,
      "outputs": []
    },
    {
      "cell_type": "code",
      "metadata": {
        "colab": {
          "base_uri": "https://localhost:8080/"
        },
        "id": "gg_evIhNK0ux",
        "outputId": "d487f210-7097-493e-e812-74c257281669"
      },
      "source": [
        "cv_XGB = KFold(n_splits=10, random_state=1, shuffle=True)\n",
        "\n",
        "results_XGB = cross_val_score(xg_reg, spy_x, spy_y, scoring='neg_mean_squared_error', cv=cv_XGB, n_jobs=-1)\n",
        "sqrt(mean(absolute(results_XGB)))"
      ],
      "execution_count": 28,
      "outputs": [
        {
          "output_type": "execute_result",
          "data": {
            "text/plain": [
              "1.0935589545441882"
            ]
          },
          "metadata": {
            "tags": []
          },
          "execution_count": 28
        }
      ]
    },
    {
      "cell_type": "code",
      "metadata": {
        "colab": {
          "base_uri": "https://localhost:8080/"
        },
        "id": "nkTCEOwHNQzF",
        "outputId": "777b29d9-553e-4804-cb4d-58661c763c28"
      },
      "source": [
        "# rmse = np.sqrt(mean_squared_error(y_test, preds))\n",
        "# print(\"RMSE: %f\" % (rmse))\n",
        "print(\"Cross Validation XGB:\", sqrt(mean(absolute(results_XGB))))\n",
        "\n",
        "print(\"\")\n",
        "\n",
        "print('Training R2 Value:', xg_reg.score(spy_x_train, spy_y_train)) \n",
        "print('Testing R2 Value:', xg_reg.score(spy_x_test, spy_y_test))\n",
        "\n",
        "print(\"\")\n",
        "\n",
        "print('Training RMSE:', sqrt(mean_squared_error(preds_train, spy_y_train))) # RMSE: the lower the better\n",
        "print('Testing RMSE:', sqrt(mean_squared_error(preds_test, spy_y_test))) # RMSE: the lower the better\n",
        "\n",
        "# Training R2 Value: 0.9999991980659549\n",
        "# Testing R2 Value: 0.9997562180800605\n",
        "\n",
        "# Training RMSE: 0.06160095786407599\n",
        "# Testing RMSE: 1.091642615309928"
      ],
      "execution_count": 29,
      "outputs": [
        {
          "output_type": "stream",
          "text": [
            "Cross Validation XGB: 1.0935589545441882\n",
            "\n",
            "Training R2 Value: 0.9999991593777121\n",
            "Testing R2 Value: 0.9997141548870484\n",
            "\n",
            "Training RMSE: 0.06375853871945981\n",
            "Testing RMSE: 1.1511813083359443\n"
          ],
          "name": "stdout"
        }
      ]
    },
    {
      "cell_type": "code",
      "metadata": {
        "id": "_sI2OaxJNTHw"
      },
      "source": [
        "spy['XGBPredict'] = preds "
      ],
      "execution_count": 30,
      "outputs": []
    },
    {
      "cell_type": "code",
      "metadata": {
        "colab": {
          "base_uri": "https://localhost:8080/",
          "height": 450
        },
        "id": "gbFFgC5xVAt-",
        "outputId": "d3003530-0119-4b79-87cc-26d0c43ac9a1"
      },
      "source": [
        "spy[[\"Open\", \"Close\",\"XGBPredict\"]]"
      ],
      "execution_count": 31,
      "outputs": [
        {
          "output_type": "execute_result",
          "data": {
            "text/html": [
              "<div>\n",
              "<style scoped>\n",
              "    .dataframe tbody tr th:only-of-type {\n",
              "        vertical-align: middle;\n",
              "    }\n",
              "\n",
              "    .dataframe tbody tr th {\n",
              "        vertical-align: top;\n",
              "    }\n",
              "\n",
              "    .dataframe thead th {\n",
              "        text-align: right;\n",
              "    }\n",
              "</style>\n",
              "<table border=\"1\" class=\"dataframe\">\n",
              "  <thead>\n",
              "    <tr style=\"text-align: right;\">\n",
              "      <th></th>\n",
              "      <th>Open</th>\n",
              "      <th>Close</th>\n",
              "      <th>XGBPredict</th>\n",
              "    </tr>\n",
              "    <tr>\n",
              "      <th>Date</th>\n",
              "      <th></th>\n",
              "      <th></th>\n",
              "      <th></th>\n",
              "    </tr>\n",
              "  </thead>\n",
              "  <tbody>\n",
              "    <tr>\n",
              "      <th>2000-01-03</th>\n",
              "      <td>148.250000</td>\n",
              "      <td>145.437500</td>\n",
              "      <td>145.433929</td>\n",
              "    </tr>\n",
              "    <tr>\n",
              "      <th>2000-01-04</th>\n",
              "      <td>143.531250</td>\n",
              "      <td>139.750000</td>\n",
              "      <td>139.752747</td>\n",
              "    </tr>\n",
              "    <tr>\n",
              "      <th>2000-01-05</th>\n",
              "      <td>139.937500</td>\n",
              "      <td>140.000000</td>\n",
              "      <td>139.989853</td>\n",
              "    </tr>\n",
              "    <tr>\n",
              "      <th>2000-01-06</th>\n",
              "      <td>139.625000</td>\n",
              "      <td>137.750000</td>\n",
              "      <td>137.771332</td>\n",
              "    </tr>\n",
              "    <tr>\n",
              "      <th>2000-01-07</th>\n",
              "      <td>140.312500</td>\n",
              "      <td>145.750000</td>\n",
              "      <td>145.695572</td>\n",
              "    </tr>\n",
              "    <tr>\n",
              "      <th>...</th>\n",
              "      <td>...</td>\n",
              "      <td>...</td>\n",
              "      <td>...</td>\n",
              "    </tr>\n",
              "    <tr>\n",
              "      <th>2021-02-12</th>\n",
              "      <td>389.850006</td>\n",
              "      <td>392.640015</td>\n",
              "      <td>391.845612</td>\n",
              "    </tr>\n",
              "    <tr>\n",
              "      <th>2021-02-16</th>\n",
              "      <td>393.959991</td>\n",
              "      <td>392.299988</td>\n",
              "      <td>391.574341</td>\n",
              "    </tr>\n",
              "    <tr>\n",
              "      <th>2021-02-17</th>\n",
              "      <td>390.420013</td>\n",
              "      <td>392.390015</td>\n",
              "      <td>391.845612</td>\n",
              "    </tr>\n",
              "    <tr>\n",
              "      <th>2021-02-18</th>\n",
              "      <td>389.589996</td>\n",
              "      <td>390.720001</td>\n",
              "      <td>389.969482</td>\n",
              "    </tr>\n",
              "    <tr>\n",
              "      <th>2021-02-19</th>\n",
              "      <td>392.070007</td>\n",
              "      <td>390.029999</td>\n",
              "      <td>389.994476</td>\n",
              "    </tr>\n",
              "  </tbody>\n",
              "</table>\n",
              "<p>5317 rows × 3 columns</p>\n",
              "</div>"
            ],
            "text/plain": [
              "                  Open       Close  XGBPredict\n",
              "Date                                          \n",
              "2000-01-03  148.250000  145.437500  145.433929\n",
              "2000-01-04  143.531250  139.750000  139.752747\n",
              "2000-01-05  139.937500  140.000000  139.989853\n",
              "2000-01-06  139.625000  137.750000  137.771332\n",
              "2000-01-07  140.312500  145.750000  145.695572\n",
              "...                ...         ...         ...\n",
              "2021-02-12  389.850006  392.640015  391.845612\n",
              "2021-02-16  393.959991  392.299988  391.574341\n",
              "2021-02-17  390.420013  392.390015  391.845612\n",
              "2021-02-18  389.589996  390.720001  389.969482\n",
              "2021-02-19  392.070007  390.029999  389.994476\n",
              "\n",
              "[5317 rows x 3 columns]"
            ]
          },
          "metadata": {
            "tags": []
          },
          "execution_count": 31
        }
      ]
    },
    {
      "cell_type": "code",
      "metadata": {
        "colab": {
          "base_uri": "https://localhost:8080/"
        },
        "id": "H-FWGcGRHSid",
        "outputId": "b7e468a9-3ae4-41f8-b140-18dd91a402e2"
      },
      "source": [
        "predict = pd.DataFrame(np.array([[386.33, 392.23, 385.27, 72433946]]), columns=['Open', 'High', 'Low', 'Volume'])\n",
        "xg_reg.predict(predict)"
      ],
      "execution_count": 32,
      "outputs": [
        {
          "output_type": "execute_result",
          "data": {
            "text/plain": [
              "array([387.73016], dtype=float32)"
            ]
          },
          "metadata": {
            "tags": []
          },
          "execution_count": 32
        }
      ]
    },
    {
      "cell_type": "code",
      "metadata": {
        "id": "EIjGXWkOTqoO"
      },
      "source": [
        "xg_reg.save_model('SPY_Model.pkl')"
      ],
      "execution_count": 30,
      "outputs": []
    },
    {
      "cell_type": "code",
      "metadata": {
        "id": "rUb9ChwQBAtg"
      },
      "source": [
        "# import pickle\n",
        "\n",
        "# filename = 'SPY_Model.pkl'\n",
        "# pickle.dump(xg_reg, open(filename, 'wb'))\n"
      ],
      "execution_count": 31,
      "outputs": []
    },
    {
      "cell_type": "code",
      "metadata": {
        "id": "1dWwmRFsCGgO",
        "colab": {
          "base_uri": "https://localhost:8080/",
          "height": 164
        },
        "outputId": "4f854bd0-e3df-469d-97af-e020b9f72926"
      },
      "source": [
        "model = pickle.load(open('SPY_Model.pkl','rb'))"
      ],
      "execution_count": 32,
      "outputs": [
        {
          "output_type": "error",
          "ename": "NameError",
          "evalue": "ignored",
          "traceback": [
            "\u001b[0;31m---------------------------------------------------------------------------\u001b[0m",
            "\u001b[0;31mNameError\u001b[0m                                 Traceback (most recent call last)",
            "\u001b[0;32m<ipython-input-32-68d94098e0e9>\u001b[0m in \u001b[0;36m<module>\u001b[0;34m()\u001b[0m\n\u001b[0;32m----> 1\u001b[0;31m \u001b[0mmodel\u001b[0m \u001b[0;34m=\u001b[0m \u001b[0mpickle\u001b[0m\u001b[0;34m.\u001b[0m\u001b[0mload\u001b[0m\u001b[0;34m(\u001b[0m\u001b[0mopen\u001b[0m\u001b[0;34m(\u001b[0m\u001b[0;34m'SPY_Model.pkl'\u001b[0m\u001b[0;34m,\u001b[0m\u001b[0;34m'rb'\u001b[0m\u001b[0;34m)\u001b[0m\u001b[0;34m)\u001b[0m\u001b[0;34m\u001b[0m\u001b[0;34m\u001b[0m\u001b[0m\n\u001b[0m",
            "\u001b[0;31mNameError\u001b[0m: name 'pickle' is not defined"
          ]
        }
      ]
    },
    {
      "cell_type": "code",
      "metadata": {
        "id": "17yb8VmIEMtg"
      },
      "source": [
        "spy.info()"
      ],
      "execution_count": null,
      "outputs": []
    },
    {
      "cell_type": "code",
      "metadata": {
        "id": "-uUtt49cEU9a"
      },
      "source": [
        ""
      ],
      "execution_count": null,
      "outputs": []
    }
  ]
}